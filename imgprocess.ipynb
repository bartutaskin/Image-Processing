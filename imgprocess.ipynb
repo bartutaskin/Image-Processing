{
 "cells": [
  {
   "cell_type": "code",
   "execution_count": 1,
   "id": "25b23acb-7d1a-4e70-a170-9c29f1884e67",
   "metadata": {},
   "outputs": [],
   "source": [
    "import cv2 as cv\n",
    "import pytesseract"
   ]
  },
  {
   "cell_type": "markdown",
   "id": "22a275cb-d076-43a9-87fb-2a9316cf4bb4",
   "metadata": {},
   "source": [
    "C:\\Users\\BARTU\\anaconda3\\Lib\\site-packages\\pytesseract"
   ]
  },
  {
   "cell_type": "code",
   "execution_count": 3,
   "id": "316fdd1c-104f-4f8a-870f-09c21aeaa519",
   "metadata": {},
   "outputs": [],
   "source": [
    "pytesseract.pytesseract.tesseract_cmd = r'C:\\Program Files\\Tesseract-OCR\\tesseract.exe'"
   ]
  },
  {
   "cell_type": "code",
   "execution_count": 4,
   "id": "17b2ba99-5ef2-4dbf-9db8-85806db8d91d",
   "metadata": {
    "scrolled": true
   },
   "outputs": [],
   "source": [
    "img = cv.imread(r\"C:\\Users\\BARTU\\Desktop\\images\\digital_line_invert1.png\")\n",
    "gray = cv.cvtColor(img, cv.COLOR_BGR2GRAY) #grayscaling\n",
    "blur = cv.GaussianBlur(gray, (5,5),0) # noise'ı azaltmak icin"
   ]
  },
  {
   "cell_type": "markdown",
   "id": "945a9c78-d696-403f-ab74-bb6b686bd512",
   "metadata": {},
   "source": [
    "cv.imshow(\"Display window\", img)\n",
    "k = cv.waitKey(0) # user kapatana kadar ekranda kalacak.\n",
    "\n",
    "Importance of grayscaling: \n",
    " * \n",
    "Dimension reduction: For example, In RGB images there are three color channels and three dimensions while grayscale images are single-dimensional. * \r\n",
    "Reduces model complexity: Consider training neural articles on RGB images of 10x10x3 pixels. The input layer will have 300 input nodes. On the othe   r hand, the same neural network will need only 100 input nodes for grayscale images * .\r\n",
    "For other algorithms to work: Many algorithms are customized to work only on grayscale images e.g. Canny edge detection function pre-implemented     in the OpenCV library works on Grayscale images only.\n",
    "\n",
    "Thresholding, to convert a grayscale image to a binary igema, simplifies the image and makes it easier to detect \n",
    "e\n",
    "px < T -> 255, px >= T -> 0"
   ]
  },
  {
   "cell_type": "code",
   "execution_count": 6,
   "id": "64a1bdf2-d16d-4182-8a19-caab2bedcb1b",
   "metadata": {},
   "outputs": [
    {
     "name": "stdout",
     "output_type": "stream",
     "text": [
      "Number of contours detected = 16\n"
     ]
    }
   ],
   "source": [
    "# if px < T then 255 (white); else 0 (black)\n",
    "# cv.THRESH_BINARY_INV : indicates that pixel values p less than T are set to the output value (the third argument).\n",
    "# cv.THRESH_BINARY_INV, white numbers on black background, easier to detect.\n",
    "#T, thresh = cv.threshold(gray, 0, 255, cv.THRESH_BINARY_INV) # T = 0\n",
    "\n",
    "# tek bir global threshold uygulamak yerine adaptive kullanarak bolgeler arasindaki degisikligi goz onunde bulunduruyor.\n",
    "# mesela bolgedeki isiklandirma farkliysa bunu kullanmak daha mantikli.\n",
    "thresh = cv.adaptiveThreshold(blur, 255, cv.ADAPTIVE_THRESH_GAUSSIAN_C, cv.THRESH_BINARY_INV, 11, 2)\n",
    "\n",
    "# 11 -> neighborhood area, 2 -> constant subtracted from the calculated mean or weig. sum. Mesela bir sonrakinde 2 birim shift edecek.\n",
    "\n",
    "# countours store the (x,y) coordinates of the boundary of a shape.\n",
    "# cv.CHAIN_APPROX_NONE, all the boundary points are stored.\n",
    "# hierarchy holds image topology. \n",
    "# cv.RETR_EXTERNAL, retrieves only the extreme outer contours.\n",
    "contours, hierarchy = cv.findContours(thresh, cv.RETR_EXTERNAL, cv.CHAIN_APPROX_SIMPLE)\n",
    "print (\"Number of contours detected = %d\" % len(contours))\n",
    "#print(hierarchy[0][0])"
   ]
  },
  {
   "cell_type": "code",
   "execution_count": 7,
   "id": "4ed6521e-3b33-4b6c-962d-3bfb58753733",
   "metadata": {},
   "outputs": [],
   "source": [
    "# (x, y) : top-left corner of the rectangle.\n",
    "# cv.rectangle(image, starting point, ending point, color, thickness)\n",
    "\n",
    "for c in contours:\n",
    "    x, y, w, h = cv.boundingRect(c)\n",
    "    cv.rectangle(img,(x,y),(x+w,y+h),(0,255,0),2)"
   ]
  },
  {
   "cell_type": "code",
   "execution_count": 8,
   "id": "05f48077-6f52-41f9-b928-671e739916e0",
   "metadata": {},
   "outputs": [
    {
     "name": "stdout",
     "output_type": "stream",
     "text": [
      "12345678\n",
      "\n"
     ]
    }
   ],
   "source": [
    "number = pytesseract.image_to_string(thresh, lang='eng', config=r'--psm 6')\n",
    "print(number)"
   ]
  },
  {
   "cell_type": "code",
   "execution_count": 9,
   "id": "18b71326-dead-4208-9cbc-8905d29469da",
   "metadata": {},
   "outputs": [],
   "source": [
    "cv.imshow('Recognized Numbers', img)\n",
    "cv.waitKey(0)\n",
    "cv.destroyAllWindows()"
   ]
  },
  {
   "cell_type": "markdown",
   "id": "b5bd07a5-cfea-46fb-a381-be6fc678203e",
   "metadata": {},
   "source": [
    "Page segmentation modes:\n",
    "  0    Orientation and script detection (OSD) only.\n",
    "  1    Automatic page segmentation with OSD.\n",
    "  2    Automatic page segmentation, but no OSD, or OCR.\n",
    "  3    Fully automatic page segmentation, but no OSD. (Default)\n",
    "  4    Assume a single column of text of variable sizes.\n",
    "  5    Assume a single uniform block of vertically aligned text.\n",
    "  6    Assume a single uniform block of text.\n",
    "  7    Treat the image as a single text line.\n",
    "  8    Treat the image as a single word.\n",
    "  9    Treat the image as a single word in a circle.\n",
    " 10    Treat the image as a single character.\n",
    " 11    Sparse text. Find as much text as possible in no particular order.\n",
    " 12    Sparse text with OSD.\n",
    " 13    Raw line. Treat the image as a single text line, bypassing hacks that are Tesseract-specific.\n",
    "\n"
   ]
  },
  {
   "cell_type": "code",
   "execution_count": null,
   "id": "07f87ed5-ed76-49f4-9f8b-bf236630e32e",
   "metadata": {},
   "outputs": [],
   "source": []
  },
  {
   "cell_type": "code",
   "execution_count": null,
   "id": "794752cc-2f85-4247-9576-50c7c83bad21",
   "metadata": {},
   "outputs": [],
   "source": []
  }
 ],
 "metadata": {
  "kernelspec": {
   "display_name": "Python 3 (ipykernel)",
   "language": "python",
   "name": "python3"
  },
  "language_info": {
   "codemirror_mode": {
    "name": "ipython",
    "version": 3
   },
   "file_extension": ".py",
   "mimetype": "text/x-python",
   "name": "python",
   "nbconvert_exporter": "python",
   "pygments_lexer": "ipython3",
   "version": "3.12.4"
  }
 },
 "nbformat": 4,
 "nbformat_minor": 5
}
